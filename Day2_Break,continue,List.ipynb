{
  "nbformat": 4,
  "nbformat_minor": 0,
  "metadata": {
    "colab": {
      "provenance": [],
      "authorship_tag": "ABX9TyPWGMLJPNQVk/hHqH1n2ObQ",
      "include_colab_link": true
    },
    "kernelspec": {
      "name": "python3",
      "display_name": "Python 3"
    },
    "language_info": {
      "name": "python"
    }
  },
  "cells": [
    {
      "cell_type": "markdown",
      "metadata": {
        "id": "view-in-github",
        "colab_type": "text"
      },
      "source": [
        "<a href=\"https://colab.research.google.com/github/slreddy01/code-usecases/blob/main/Day2_Break%2Ccontinue%2CList.ipynb\" target=\"_parent\"><img src=\"https://colab.research.google.com/assets/colab-badge.svg\" alt=\"Open In Colab\"/></a>"
      ]
    },
    {
      "cell_type": "code",
      "execution_count": null,
      "metadata": {
        "colab": {
          "base_uri": "https://localhost:8080/"
        },
        "id": "JfxzKVMkQcek",
        "outputId": "063452cd-43a0-4c88-f015-2eaa84dae184"
      },
      "outputs": [
        {
          "output_type": "stream",
          "name": "stdout",
          "text": [
            "n\n",
            "a\n",
            "v\n",
            "a\n",
            "i\n",
            "thank you\n"
          ]
        }
      ],
      "source": [
        "#using for loop for continue\n",
        "\n",
        "for letter in \"navami\":\n",
        "  if letter == 'm':\n",
        "     continue\n",
        "  else:\n",
        "    print(letter)\n",
        "print(\"thank you\")"
      ]
    },
    {
      "cell_type": "code",
      "source": [
        "# using for loop for break\n",
        "\n",
        "for letter in \"navami\":\n",
        "  if letter == 'm':\n",
        "    break\n",
        "  else:\n",
        "    print(letter)\n",
        "print(\"thank you\")"
      ],
      "metadata": {
        "colab": {
          "base_uri": "https://localhost:8080/"
        },
        "id": "8y-21MFDRl6I",
        "outputId": "3304bcb6-be9e-490b-cf1f-88bb777e197a"
      },
      "execution_count": null,
      "outputs": [
        {
          "output_type": "stream",
          "name": "stdout",
          "text": [
            "n\n",
            "a\n",
            "v\n",
            "a\n",
            "thank you\n"
          ]
        }
      ]
    },
    {
      "cell_type": "code",
      "source": [
        "#using while loop for break\n",
        "\n",
        "var = 10\n",
        "while var >0 :\n",
        "  var =  var-1\n",
        "  if var ==3:\n",
        "    break\n",
        "  print(var)\n",
        "\n",
        "print(\"thank you\")\n"
      ],
      "metadata": {
        "colab": {
          "base_uri": "https://localhost:8080/"
        },
        "id": "imssxYNRWgdI",
        "outputId": "ab157f4e-631d-4ad4-bc5a-fc0eca3a5d57"
      },
      "execution_count": null,
      "outputs": [
        {
          "output_type": "stream",
          "name": "stdout",
          "text": [
            "9\n",
            "8\n",
            "7\n",
            "6\n",
            "5\n",
            "4\n",
            "thank you\n"
          ]
        }
      ]
    },
    {
      "cell_type": "code",
      "source": [
        "#using while loop for continue\n",
        "\n",
        "var = 5\n",
        "while var >2:\n",
        "  var = var-1\n",
        "  if var ==1:\n",
        "    continue\n",
        "  print(var)\n",
        "print(\"thank you\")"
      ],
      "metadata": {
        "colab": {
          "base_uri": "https://localhost:8080/"
        },
        "id": "bEmeeO14YRuo",
        "outputId": "0eacef50-182e-42f1-87a5-5b7b6e618719"
      },
      "execution_count": null,
      "outputs": [
        {
          "output_type": "stream",
          "name": "stdout",
          "text": [
            "4\n",
            "3\n",
            "2\n",
            "thank you\n"
          ]
        }
      ]
    },
    {
      "cell_type": "code",
      "source": [
        "animals =[4,60,'tyh']\n",
        "animals[2]\n",
        "#type(animals)"
      ],
      "metadata": {
        "colab": {
          "base_uri": "https://localhost:8080/"
        },
        "id": "brzHWol2MTgn",
        "outputId": "5f9eb94c-6d88-42d2-a1f4-821be0321b05"
      },
      "execution_count": null,
      "outputs": [
        {
          "output_type": "execute_result",
          "data": {
            "text/plain": [
              "list"
            ]
          },
          "metadata": {},
          "execution_count": 19
        }
      ]
    },
    {
      "cell_type": "code",
      "source": [
        "for letter in \"navami\":\n",
        "  if letter == 'i':\n",
        "    break\n",
        "  else:\n",
        "    print(letter)\n",
        "print(\"thank you\")\n",
        "\n"
      ],
      "metadata": {
        "colab": {
          "base_uri": "https://localhost:8080/"
        },
        "id": "qk6pJuvlOyFx",
        "outputId": "70404ab9-4ac0-4f97-adcb-d77cf3594f42"
      },
      "execution_count": null,
      "outputs": [
        {
          "output_type": "stream",
          "name": "stdout",
          "text": [
            "n\n",
            "a\n",
            "v\n",
            "a\n",
            "m\n",
            "thank you\n"
          ]
        }
      ]
    },
    {
      "cell_type": "code",
      "source": [
        "for letter in \"manam\":\n",
        "  if letter == 'a':\n",
        "    break\n",
        "  else:\n",
        "    print(letter)\n",
        "print(\"bye\")\n",
        "type(letter)\n"
      ],
      "metadata": {
        "colab": {
          "base_uri": "https://localhost:8080/"
        },
        "id": "nWDVkKLdXhwW",
        "outputId": "37118893-a492-417f-fc85-e6faeaef99ef"
      },
      "execution_count": null,
      "outputs": [
        {
          "output_type": "stream",
          "name": "stdout",
          "text": [
            "m\n",
            "bye\n"
          ]
        },
        {
          "output_type": "execute_result",
          "data": {
            "text/plain": [
              "str"
            ]
          },
          "metadata": {},
          "execution_count": 26
        }
      ]
    },
    {
      "cell_type": "code",
      "source": [
        "list3= ([10,20],[40,'str'])\n",
        "type(list3)\n",
        "list2 =[10,20,40]\n",
        "type(list2)"
      ],
      "metadata": {
        "colab": {
          "base_uri": "https://localhost:8080/"
        },
        "id": "JFDLOozQgYVy",
        "outputId": "30fd1dc5-7bcd-4166-ad66-c4a0de3f4875"
      },
      "execution_count": null,
      "outputs": [
        {
          "output_type": "execute_result",
          "data": {
            "text/plain": [
              "list"
            ]
          },
          "metadata": {},
          "execution_count": 28
        }
      ]
    },
    {
      "cell_type": "code",
      "source": [
        "animals = ['lion','cat','horse']\n",
        "animals[1] = 'dog'\n",
        "animals.sort()\n",
        "\n",
        "animals"
      ],
      "metadata": {
        "colab": {
          "base_uri": "https://localhost:8080/"
        },
        "id": "8k-kk79ytt3M",
        "outputId": "ef9efc58-2b7b-4a89-f855-1acd7a493ef3"
      },
      "execution_count": null,
      "outputs": [
        {
          "output_type": "execute_result",
          "data": {
            "text/plain": [
              "['dog', 'horse', 'lion']"
            ]
          },
          "metadata": {},
          "execution_count": 35
        }
      ]
    },
    {
      "cell_type": "markdown",
      "source": [
        "# We cannot sort the list if it contains int and string together, it is in single format then only we can sort the **list**"
      ],
      "metadata": {
        "id": "4f-qjLwNtvFt"
      }
    },
    {
      "cell_type": "markdown",
      "source": [
        "the 6 six list operations in list are reverse,replace, sort, append, replace,delete"
      ],
      "metadata": {
        "id": "vrhryC2DxMml"
      }
    },
    {
      "cell_type": "code",
      "source": [
        "names =['krishna','rama','arjuna','sita','madhava']\n",
        "#1st operation - replace\n",
        "#names[4]='bharath'\n",
        "#names\n",
        "#names.sort()\n",
        "#names\n",
        "#names.append('krish')\n",
        "#names\n",
        "#names.reverse()\n",
        "#names\n",
        "#print(names.count('krish'))\n",
        "#new_name = names.copy()\n",
        "#new_name\n",
        "#print(names.index('madhava'))  # sol: 4\n",
        "# if i print like below throws error\n",
        "#print(names.index('madhava','sita')) #slice indices must be integers or have an __index__ method\n",
        "#names.extend(['buddha'])\n",
        "\n",
        "\n",
        "\n"
      ],
      "metadata": {
        "colab": {
          "base_uri": "https://localhost:8080/"
        },
        "id": "U6GO_JLxx_q0",
        "outputId": "8f97b7ec-d812-46c6-cc25-b37bf8a64bf7"
      },
      "execution_count": null,
      "outputs": [
        {
          "output_type": "execute_result",
          "data": {
            "text/plain": [
              "['krishna', 'arjuna', 'sita', 'madhava']"
            ]
          },
          "metadata": {},
          "execution_count": 83
        }
      ]
    },
    {
      "cell_type": "markdown",
      "source": [
        "**difference between append() and extend() methods im list,**\n",
        "append() we can add single element @ end of list , can be any data type including another list, or single element\n",
        "\n",
        "Extend() is used when we want to add all elements from list,tuple, set  to end of a list\n",
        "Unlike append(), which adds an entire iterable as a single element, extend() adds each element from the iterable to the list."
      ],
      "metadata": {
        "id": "1VoQLtI07tCX"
      }
    },
    {
      "cell_type": "code",
      "source": [
        "names =['krishna','rama','arjuna','sita','madhava']\n",
        "names.append('krish')\n",
        "names"
      ],
      "metadata": {
        "colab": {
          "base_uri": "https://localhost:8080/"
        },
        "id": "dtSgC33Y9gxX",
        "outputId": "5fbdad2b-44e4-4978-a916-57c26b7344c9"
      },
      "execution_count": null,
      "outputs": [
        {
          "output_type": "execute_result",
          "data": {
            "text/plain": [
              "['krishna', 'rama', 'arjuna', 'sita', 'madhava', 'krish']"
            ]
          },
          "metadata": {},
          "execution_count": 78
        }
      ]
    },
    {
      "cell_type": "code",
      "source": [
        "names =['krishna','rama','arjuna','sita','madhava']\n",
        "names.extend('krish')\n",
        "names"
      ],
      "metadata": {
        "colab": {
          "base_uri": "https://localhost:8080/"
        },
        "id": "RTSd03ES_BaX",
        "outputId": "09d2593f-5a6d-405b-9108-4bf0bfb61328"
      },
      "execution_count": null,
      "outputs": [
        {
          "output_type": "execute_result",
          "data": {
            "text/plain": [
              "['krishna', 'rama', 'arjuna', 'sita', 'madhava', 'k', 'r', 'i', 's', 'h']"
            ]
          },
          "metadata": {},
          "execution_count": 80
        }
      ]
    },
    {
      "cell_type": "markdown",
      "metadata": {
        "id": "27abaa69"
      },
      "source": [
        "### The `index()` List Method\n",
        "\n",
        "The `index()` method returns the index of the first occurrence of a specified value within a list.\n",
        "\n",
        "**Syntax:**"
      ]
    },
    {
      "cell_type": "markdown",
      "metadata": {
        "id": "504f209d"
      },
      "source": [
        "### The `count()` List Method\n",
        "\n",
        "The `count()` method is used to count the number of occurrences of a specific element within a list.\n",
        "\n",
        "**Syntax:**"
      ]
    },
    {
      "cell_type": "code",
      "metadata": {
        "id": "f347dda7"
      },
      "source": [
        "# Example of using count()\n",
        "my_list = [1, 2, 2, 3, 4, 2, 5]\n",
        "count_of_2 = my_list.count(2)\n",
        "print(f\"The list is: {my_list}\")\n",
        "print(f\"The number of times 2 appears in the list is: {count_of_2}\")\n",
        "\n",
        "another_list = ['apple', 'banana', 'orange', 'apple', 'grape', 'apple']\n",
        "count_of_apple = another_list.count('apple')\n",
        "print(f\"\\nThe list is: {another_list}\")\n",
        "print(f\"The number of times 'apple' appears in the list is: {count_of_apple}\")"
      ],
      "execution_count": null,
      "outputs": []
    },
    {
      "cell_type": "code",
      "source": [
        "#pop method in list will removes and returns the last element of the list.\n",
        "#if index is not provided pop() will remove the last item from list.\n",
        "names =['krishna','rama','arjuna','sita','madhava']\n",
        "names.pop(1)\n",
        "names"
      ],
      "metadata": {
        "colab": {
          "base_uri": "https://localhost:8080/"
        },
        "id": "iEiZ8wfPAds4",
        "outputId": "c632fcec-6c7e-498e-f7d6-4b6778bd3ea8"
      },
      "execution_count": null,
      "outputs": [
        {
          "output_type": "execute_result",
          "data": {
            "text/plain": [
              "['krishna', 'arjuna', 'sita', 'madhava']"
            ]
          },
          "metadata": {},
          "execution_count": 84
        }
      ]
    }
  ]
}