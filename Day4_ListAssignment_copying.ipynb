{
  "nbformat": 4,
  "nbformat_minor": 0,
  "metadata": {
    "colab": {
      "provenance": [],
      "authorship_tag": "ABX9TyOo0M4rzmgqa2rPkFhYKCU9",
      "include_colab_link": true
    },
    "kernelspec": {
      "name": "python3",
      "display_name": "Python 3"
    },
    "language_info": {
      "name": "python"
    }
  },
  "cells": [
    {
      "cell_type": "markdown",
      "metadata": {
        "id": "view-in-github",
        "colab_type": "text"
      },
      "source": [
        "<a href=\"https://colab.research.google.com/github/slreddy01/code-usecases/blob/main/Day4_ListAssignment_copying.ipynb\" target=\"_parent\"><img src=\"https://colab.research.google.com/assets/colab-badge.svg\" alt=\"Open In Colab\"/></a>"
      ]
    },
    {
      "cell_type": "markdown",
      "source": [
        "## To copy the list , we have to use list constructor ***list()***"
      ],
      "metadata": {
        "id": "2MXtOTRcHQP7"
      }
    },
    {
      "cell_type": "markdown",
      "source": [
        "Assignment in list is used to assign any other element in list"
      ],
      "metadata": {
        "id": "mlhTQ6nWHdSK"
      }
    },
    {
      "cell_type": "code",
      "execution_count": null,
      "metadata": {
        "colab": {
          "base_uri": "https://localhost:8080/"
        },
        "id": "U0hVHsZizCd8",
        "outputId": "bba6185c-e460-44f2-9108-900aa34174af"
      },
      "outputs": [
        {
          "output_type": "execute_result",
          "data": {
            "text/plain": [
              "[1, 2, 4, 7, 8]"
            ]
          },
          "metadata": {},
          "execution_count": 40
        }
      ],
      "source": [
        "my_list =[1,2,4,7,8]\n",
        "my_list"
      ]
    },
    {
      "cell_type": "code",
      "source": [
        "my_list[2]='abc'\n",
        "my_list"
      ],
      "metadata": {
        "colab": {
          "base_uri": "https://localhost:8080/"
        },
        "id": "uaEidLenHoq5",
        "outputId": "941d8c9a-38bd-4ea0-d382-e60f99ddc76f"
      },
      "execution_count": null,
      "outputs": [
        {
          "output_type": "execute_result",
          "data": {
            "text/plain": [
              "[1, 2, 'abc', 7, 8]"
            ]
          },
          "metadata": {},
          "execution_count": 35
        }
      ]
    },
    {
      "cell_type": "code",
      "source": [
        "my_list[5]=1\n",
        "my_list"
      ],
      "metadata": {
        "colab": {
          "base_uri": "https://localhost:8080/",
          "height": 159
        },
        "id": "PMLnIUqeHwiZ",
        "outputId": "f0f97afe-346f-4270-f30b-72c613c29d81"
      },
      "execution_count": null,
      "outputs": [
        {
          "output_type": "error",
          "ename": "IndexError",
          "evalue": "list assignment index out of range",
          "traceback": [
            "\u001b[0;31m---------------------------------------------------------------------------\u001b[0m",
            "\u001b[0;31mIndexError\u001b[0m                                Traceback (most recent call last)",
            "\u001b[0;32m/tmp/ipython-input-3691366139.py\u001b[0m in \u001b[0;36m<cell line: 0>\u001b[0;34m()\u001b[0m\n\u001b[0;32m----> 1\u001b[0;31m \u001b[0mmy_list\u001b[0m\u001b[0;34m[\u001b[0m\u001b[0;36m5\u001b[0m\u001b[0;34m]\u001b[0m\u001b[0;34m=\u001b[0m\u001b[0;36m1\u001b[0m\u001b[0;34m\u001b[0m\u001b[0;34m\u001b[0m\u001b[0m\n\u001b[0m\u001b[1;32m      2\u001b[0m \u001b[0mmy_list\u001b[0m\u001b[0;34m\u001b[0m\u001b[0;34m\u001b[0m\u001b[0m\n",
            "\u001b[0;31mIndexError\u001b[0m: list assignment index out of range"
          ]
        }
      ]
    },
    {
      "cell_type": "markdown",
      "source": [
        "So if we try to assign to the list which is out of the range, it will throw error like above"
      ],
      "metadata": {
        "id": "psByVs2THoWZ"
      }
    },
    {
      "cell_type": "markdown",
      "source": [
        "list() -- called a list constructor"
      ],
      "metadata": {
        "id": "aV_gCVVHIp2q"
      }
    },
    {
      "cell_type": "code",
      "source": [
        "my_list2 = ['abc','3','5','9','22']\n",
        "my_list2"
      ],
      "metadata": {
        "colab": {
          "base_uri": "https://localhost:8080/"
        },
        "id": "-SQ_AcqRItdy",
        "outputId": "54614a48-39f0-40e3-e010-57d9ae6c3cca"
      },
      "execution_count": null,
      "outputs": [
        {
          "output_type": "execute_result",
          "data": {
            "text/plain": [
              "['abc', '3', '5', '9', '22']"
            ]
          },
          "metadata": {},
          "execution_count": 41
        }
      ]
    }
  ]
}