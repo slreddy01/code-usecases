{
  "nbformat": 4,
  "nbformat_minor": 0,
  "metadata": {
    "colab": {
      "provenance": [],
      "authorship_tag": "ABX9TyO9V08T0L5+tUZ4KCnx7ALz",
      "include_colab_link": true
    },
    "kernelspec": {
      "name": "python3",
      "display_name": "Python 3"
    },
    "language_info": {
      "name": "python"
    }
  },
  "cells": [
    {
      "cell_type": "markdown",
      "metadata": {
        "id": "view-in-github",
        "colab_type": "text"
      },
      "source": [
        "<a href=\"https://colab.research.google.com/github/slreddy01/code-usecases/blob/main/Day_7_Strings.ipynb\" target=\"_parent\"><img src=\"https://colab.research.google.com/assets/colab-badge.svg\" alt=\"Open In Colab\"/></a>"
      ]
    },
    {
      "cell_type": "markdown",
      "source": [
        "Strings are immutable. But if we want we can do it using concatenation, slicing or formatting to create new strings based on original.\n",
        "\n",
        "Strings can be used to extract a portion of a string by slicing\n",
        "\n"
      ],
      "metadata": {
        "id": "_5gZhrngMZyv"
      }
    },
    {
      "cell_type": "code",
      "source": [
        "s = \"god is everywhere\"\n",
        "print(s[1:4])"
      ],
      "metadata": {
        "colab": {
          "base_uri": "https://localhost:8080/"
        },
        "id": "fNIkTUBuT9Y7",
        "outputId": "92ddc4b0-6e57-4f1b-f45e-dbc1b7db77f2"
      },
      "execution_count": null,
      "outputs": [
        {
          "output_type": "stream",
          "name": "stdout",
          "text": [
            "od \n"
          ]
        }
      ]
    },
    {
      "cell_type": "code",
      "execution_count": null,
      "metadata": {
        "colab": {
          "base_uri": "https://localhost:8080/"
        },
        "id": "onP1fHawMBvn",
        "outputId": "d5b11475-d2da-4ed8-8baf-50291918c364"
      },
      "outputs": [
        {
          "output_type": "stream",
          "name": "stdout",
          "text": [
            " is \n"
          ]
        }
      ],
      "source": [
        "print(s[3:7])"
      ]
    },
    {
      "cell_type": "markdown",
      "source": [
        "if we update strings it will be create new string using slicing or updates"
      ],
      "metadata": {
        "id": "8aThauKHXs4P"
      }
    },
    {
      "cell_type": "code",
      "source": [
        "s = \"good morning\"\n",
        "\n",
        "s1 = \"G\"+s[1:]\n",
        "print(s1)"
      ],
      "metadata": {
        "colab": {
          "base_uri": "https://localhost:8080/"
        },
        "id": "EUZ6D6uAYSQv",
        "outputId": "5c1a5ff4-275a-4957-c802-c548fd329cb2"
      },
      "execution_count": null,
      "outputs": [
        {
          "output_type": "stream",
          "name": "stdout",
          "text": [
            "Good morning\n"
          ]
        }
      ]
    },
    {
      "cell_type": "code",
      "source": [
        "s2 = s.replace(\"morning\",\"evening\")\n",
        "s3 = \"G\"+s2[1:]+\" \"+s2[2:]\n",
        "print(s2)\n",
        "print(s3)"
      ],
      "metadata": {
        "colab": {
          "base_uri": "https://localhost:8080/"
        },
        "id": "OlvgGaP8YdW3",
        "outputId": "08be5904-56db-422f-c1be-874db9ee9612"
      },
      "execution_count": null,
      "outputs": [
        {
          "output_type": "stream",
          "name": "stdout",
          "text": [
            "good evening\n",
            "Good evening od evening\n"
          ]
        }
      ]
    },
    {
      "cell_type": "markdown",
      "source": [
        "strip() is used to remove leading and trailing spaces"
      ],
      "metadata": {
        "id": "J3r6UVtHZ4y5"
      }
    },
    {
      "cell_type": "markdown",
      "source": [
        "Dictionaries in python\n",
        "\n",
        "In dictionaries the data is stored in the form of key value pairs\n",
        "\n",
        "Keys are immutable means Keys can be tuple, int, string but not lists.\n",
        "\n",
        "Duplicate keys are not allowed.\n",
        "\n",
        "Dictionaries are ordered.\n",
        "\n",
        "dic = {1:\"gods\",2:\"speed\")"
      ],
      "metadata": {
        "id": "IdoteXJlULlm"
      }
    },
    {
      "cell_type": "code",
      "source": [
        "dic = {1:\"gods\",2:\"speed\"}\n",
        "print(dic)"
      ],
      "metadata": {
        "colab": {
          "base_uri": "https://localhost:8080/"
        },
        "id": "JQAGo8KIVD2s",
        "outputId": "610a71eb-91ff-4ea5-cb64-1338364739a7"
      },
      "execution_count": 1,
      "outputs": [
        {
          "output_type": "stream",
          "name": "stdout",
          "text": [
            "{1: 'gods', 2: 'speed'}\n"
          ]
        }
      ]
    },
    {
      "cell_type": "code",
      "source": [
        "d = dict(a = \"apple\",b = \"mango\")\n",
        "print(d)"
      ],
      "metadata": {
        "colab": {
          "base_uri": "https://localhost:8080/"
        },
        "id": "lELORBWCVL1P",
        "outputId": "65d790b4-844d-43c3-97df-e2d70f997505"
      },
      "execution_count": 3,
      "outputs": [
        {
          "output_type": "stream",
          "name": "stdout",
          "text": [
            "{'a': 'apple', 'b': 'mango'}\n"
          ]
        }
      ]
    },
    {
      "cell_type": "markdown",
      "source": [
        "we can access a value from dictionary by using the key within square brackets or get()\n"
      ],
      "metadata": {
        "id": "Fox5S3oIVqpU"
      }
    },
    {
      "cell_type": "code",
      "source": [
        "dic = {\"name\":\"likhitha\",1: \"Python\", (1, 2): [1,2,4] }\n",
        "\n",
        "# Access using key\n",
        "print(dic[\"name\"])\n",
        "\n",
        "# Access using get()\n",
        "print(dic.get(\"name\"))\n",
        "\n",
        "#access using get()\n",
        "print(dic.get((1,2)))"
      ],
      "metadata": {
        "colab": {
          "base_uri": "https://localhost:8080/"
        },
        "id": "8SOJg6-PV2eu",
        "outputId": "62051af9-bc63-43f7-cb51-44c785f36d23"
      },
      "execution_count": 6,
      "outputs": [
        {
          "output_type": "stream",
          "name": "stdout",
          "text": [
            "likhitha\n",
            "likhitha\n",
            "[1, 2, 4]\n"
          ]
        }
      ]
    },
    {
      "cell_type": "markdown",
      "source": [
        "dictionaries can be accessed in many ways\n",
        "\n",
        "1. using curyl bracket syntax\n",
        "mylist = {1:\"apple\",2:\"banana\"}\n",
        "\n",
        "2. empty dictionary and define values 1 by 1\n",
        "mylist ={}\n",
        "\n",
        "mylist[1] =\"apple\"\n",
        "mylist[2] = \"banana\"\n",
        "mylist[3] = \"orange\"\n",
        "mylist\n",
        "\n",
        "3. using dict constructor and a list of tuples\n",
        "\n",
        "d = dict([(1,\"apple\"),(2,\"banana\"),(3,\"orange\")])\n",
        "d\n",
        "{1:'apple',2:'banana',3:'orange'}\n",
        "\n",
        "\n"
      ],
      "metadata": {
        "id": "j138q7AXZsks"
      }
    }
  ]
}