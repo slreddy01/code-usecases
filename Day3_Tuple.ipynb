{
  "nbformat": 4,
  "nbformat_minor": 0,
  "metadata": {
    "colab": {
      "provenance": [],
      "authorship_tag": "ABX9TyPOmqP7HYzEsf4tNxDbmOPZ",
      "include_colab_link": true
    },
    "kernelspec": {
      "name": "python3",
      "display_name": "Python 3"
    },
    "language_info": {
      "name": "python"
    }
  },
  "cells": [
    {
      "cell_type": "markdown",
      "metadata": {
        "id": "view-in-github",
        "colab_type": "text"
      },
      "source": [
        "<a href=\"https://colab.research.google.com/github/slreddy01/code-usecases/blob/main/Day3_Tuple.ipynb\" target=\"_parent\"><img src=\"https://colab.research.google.com/assets/colab-badge.svg\" alt=\"Open In Colab\"/></a>"
      ]
    },
    {
      "cell_type": "markdown",
      "source": [
        "Tuples are similar to list , we can provide indexes, we cannot change anything in tuples means immutable, and it have only 2 methods,\n",
        "count\n",
        "index\n",
        "\n",
        "in list we have 8 methods"
      ],
      "metadata": {
        "id": "SEFMtgiD6b4m"
      }
    },
    {
      "cell_type": "code",
      "execution_count": null,
      "metadata": {
        "colab": {
          "base_uri": "https://localhost:8080/"
        },
        "id": "l3_2I-hf6MV5",
        "outputId": "7bdf8d36-d203-4291-e98d-6bec65a9f1a0"
      },
      "outputs": [
        {
          "output_type": "stream",
          "name": "stdout",
          "text": [
            "('pink', 'blue', 'orange')\n"
          ]
        },
        {
          "output_type": "execute_result",
          "data": {
            "text/plain": [
              "1"
            ]
          },
          "metadata": {},
          "execution_count": 5
        }
      ],
      "source": [
        "colours = ('pink','blue','orange')\n",
        "print(colours)\n",
        "colours.index('pink')\n",
        "colours.count('pink')"
      ]
    },
    {
      "cell_type": "markdown",
      "source": [
        "count () is used to check how many times the element is use din list or tuple"
      ],
      "metadata": {
        "id": "wvIcpGZY-Fm1"
      }
    },
    {
      "cell_type": "markdown",
      "source": [
        "sequences in python\n",
        "\n",
        "1.length\n",
        "2.select\n",
        "3.slice\n",
        "4.count\n",
        "5.index\n",
        "6.Membership\n",
        "7.concatenation\n",
        "8.Min value\n",
        "9.Max value\n",
        "10.Sum"
      ],
      "metadata": {
        "id": "NZmw3b0v73bd"
      }
    },
    {
      "cell_type": "markdown",
      "source": [
        "Membership operator is like IN , NOT IN\n",
        "Concatenation used for joining 2 tuples or 2 lists or 2 strings"
      ],
      "metadata": {
        "id": "MZN2exCXvRw6"
      }
    },
    {
      "cell_type": "code",
      "source": [
        "name = ['0','1','2']\n",
        "name1 = ['def']\n",
        "name2= name+name1\n",
        "print(name2)"
      ],
      "metadata": {
        "id": "imd--dfz7rsm",
        "colab": {
          "base_uri": "https://localhost:8080/"
        },
        "outputId": "41daebed-03d4-4425-88dd-892413c12fe4"
      },
      "execution_count": 12,
      "outputs": [
        {
          "output_type": "stream",
          "name": "stdout",
          "text": [
            "['0', '1', '2', 'def']\n"
          ]
        }
      ]
    },
    {
      "cell_type": "code",
      "source": [
        "min(name)\n",
        "max(name)"
      ],
      "metadata": {
        "colab": {
          "base_uri": "https://localhost:8080/",
          "height": 35
        },
        "id": "jQBd1ym5wmcf",
        "outputId": "7c480b4c-4985-47b7-9446-546daa3a329d"
      },
      "execution_count": 15,
      "outputs": [
        {
          "output_type": "execute_result",
          "data": {
            "text/plain": [
              "'2'"
            ],
            "application/vnd.google.colaboratory.intrinsic+json": {
              "type": "string"
            }
          },
          "metadata": {},
          "execution_count": 15
        }
      ]
    },
    {
      "cell_type": "code",
      "source": [
        "tuple = (4,7,10,3)\n",
        "sum(tuple)"
      ],
      "metadata": {
        "colab": {
          "base_uri": "https://localhost:8080/"
        },
        "id": "YIUtZfVJw_m7",
        "outputId": "225ced46-9a2f-411f-ae99-734905f48475"
      },
      "execution_count": 17,
      "outputs": [
        {
          "output_type": "execute_result",
          "data": {
            "text/plain": [
              "24"
            ]
          },
          "metadata": {},
          "execution_count": 17
        }
      ]
    },
    {
      "cell_type": "code",
      "source": [
        "str =('hjhkkl')\n",
        "len(str)"
      ],
      "metadata": {
        "colab": {
          "base_uri": "https://localhost:8080/"
        },
        "id": "pn8qrTI6w5mU",
        "outputId": "db2d2f70-6654-41b9-c125-042e6565b36d"
      },
      "execution_count": 18,
      "outputs": [
        {
          "output_type": "execute_result",
          "data": {
            "text/plain": [
              "6"
            ]
          },
          "metadata": {},
          "execution_count": 18
        }
      ]
    },
    {
      "cell_type": "code",
      "source": [
        "list=[146,89,86]\n",
        "len(list)\n",
        "sum(list)"
      ],
      "metadata": {
        "colab": {
          "base_uri": "https://localhost:8080/"
        },
        "id": "SA8cSUyMxycx",
        "outputId": "aeb00602-0019-43e5-c171-4381db0c41ad"
      },
      "execution_count": 31,
      "outputs": [
        {
          "output_type": "execute_result",
          "data": {
            "text/plain": [
              "321"
            ]
          },
          "metadata": {},
          "execution_count": 31
        }
      ]
    },
    {
      "cell_type": "code",
      "source": [
        "tuple =('jkjk','yuyu','fffg')\n",
        "tuple1=('1','3','4','0','5')\n",
        "len(tuple)\n",
        "len(tuple1)\n"
      ],
      "metadata": {
        "colab": {
          "base_uri": "https://localhost:8080/"
        },
        "id": "NmPskh4cx64r",
        "outputId": "0f57c860-7b17-464b-e17b-3d74eee9bdfb"
      },
      "execution_count": 27,
      "outputs": [
        {
          "output_type": "execute_result",
          "data": {
            "text/plain": [
              "5"
            ]
          },
          "metadata": {},
          "execution_count": 27
        }
      ]
    },
    {
      "cell_type": "markdown",
      "source": [
        "sum operation is not used for string\n",
        "concatenate operation is used for only similar type like list with list,\n",
        "tuple with tuple\n",
        "string with string\n"
      ],
      "metadata": {
        "id": "MHYNdsOiyuBE"
      }
    }
  ]
}