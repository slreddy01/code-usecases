{
  "nbformat": 4,
  "nbformat_minor": 0,
  "metadata": {
    "colab": {
      "provenance": [],
      "authorship_tag": "ABX9TyMTAx6oJwyyf8zFfdifLUVB",
      "include_colab_link": true
    },
    "kernelspec": {
      "name": "python3",
      "display_name": "Python 3"
    },
    "language_info": {
      "name": "python"
    }
  },
  "cells": [
    {
      "cell_type": "markdown",
      "metadata": {
        "id": "view-in-github",
        "colab_type": "text"
      },
      "source": [
        "<a href=\"https://colab.research.google.com/github/slreddy01/code-usecases/blob/main/Day6_Variablesipynb.ipynb\" target=\"_parent\"><img src=\"https://colab.research.google.com/assets/colab-badge.svg\" alt=\"Open In Colab\"/></a>"
      ]
    },
    {
      "cell_type": "code",
      "execution_count": null,
      "metadata": {
        "colab": {
          "base_uri": "https://localhost:8080/"
        },
        "id": "74DrW4lyIdyw",
        "outputId": "25a21c1b-d3ae-4ec0-92c5-30df1b59b4fb"
      },
      "outputs": [
        {
          "output_type": "stream",
          "name": "stdout",
          "text": [
            "outer x: nonlocal\n",
            "Global X: global\n"
          ]
        }
      ],
      "source": [
        "x = \"global\"\n",
        "def outer():\n",
        "  x = 'nonlocal'\n",
        "  #def inner():\n",
        "    #nonlocal x\n",
        "    #x='Local to outer'\n",
        "  #inner()\n",
        "  print(\"outer x:\",x)\n",
        "outer()\n",
        "print(\"Global X:\",x)"
      ]
    },
    {
      "cell_type": "markdown",
      "source": [
        "Global Variables\n",
        "\n",
        "Local Variables"
      ],
      "metadata": {
        "id": "t3MBiaaDItR-"
      }
    },
    {
      "cell_type": "markdown",
      "source": [
        "Lambda Functions\n",
        "\n",
        "These are anonymus function.we use keyword Lambda.\n",
        "\n",
        " Lambda functions are frequently used as arguments to higher-order functions like map(), filter(), sorted(), and reduce(), which take other functions as input\n",
        "\n",
        " When to use lambda functions:\n",
        "\n",
        "For simple, one-time operations that don't warrant a full function definition.\n",
        "As arguments to higher-order functions where a concise function is needed inline.\n",
        "\n",
        "\n",
        "Limitations:\n",
        "\n",
        "Limited to a single expression, restricting their complexity.\n",
        "Lack of a name can sometimes make debugging more challenging.\n",
        "Not suitable for complex logic or functions requiring multiple statements."
      ],
      "metadata": {
        "id": "Nx1LRorbkq2a"
      }
    },
    {
      "cell_type": "code",
      "source": [
        "# A lambda function to double a number\n",
        "double = lambda x: x * 2\n",
        "print(double(5))\n",
        "\n",
        "# Using a lambda function with map()\n",
        "numbers = [1, 2, 3, 4, 5]\n",
        "squared_numbers = list(map(lambda x: x**2, numbers))\n",
        "print(squared_numbers)\n",
        "\n",
        "# Using a lambda function with filter()\n",
        "even_numbers = list(filter(lambda x: x % 2 == 0, numbers))\n",
        "print(even_numbers)"
      ],
      "metadata": {
        "id": "rliVEHwjlVE1"
      },
      "execution_count": null,
      "outputs": []
    },
    {
      "cell_type": "code",
      "source": [
        "sum = lambda var1,var2 : var1+var2\n",
        "var1=20\n",
        "var2=30\n",
        "print(sum(var1,var2))"
      ],
      "metadata": {
        "colab": {
          "base_uri": "https://localhost:8080/"
        },
        "id": "dDcTkfCMnWlS",
        "outputId": "dda01309-bc67-403b-a66c-9aa9a0ccd7e9"
      },
      "execution_count": 8,
      "outputs": [
        {
          "output_type": "stream",
          "name": "stdout",
          "text": [
            "50\n"
          ]
        }
      ]
    }
  ]
}