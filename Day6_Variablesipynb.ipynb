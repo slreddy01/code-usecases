{
  "nbformat": 4,
  "nbformat_minor": 0,
  "metadata": {
    "colab": {
      "provenance": [],
      "authorship_tag": "ABX9TyNur+svtjW2rMmR5/twH7Mh",
      "include_colab_link": true
    },
    "kernelspec": {
      "name": "python3",
      "display_name": "Python 3"
    },
    "language_info": {
      "name": "python"
    }
  },
  "cells": [
    {
      "cell_type": "markdown",
      "metadata": {
        "id": "view-in-github",
        "colab_type": "text"
      },
      "source": [
        "<a href=\"https://colab.research.google.com/github/slreddy01/code-usecases/blob/main/Day6_Variablesipynb.ipynb\" target=\"_parent\"><img src=\"https://colab.research.google.com/assets/colab-badge.svg\" alt=\"Open In Colab\"/></a>"
      ]
    },
    {
      "cell_type": "code",
      "execution_count": 5,
      "metadata": {
        "colab": {
          "base_uri": "https://localhost:8080/"
        },
        "id": "74DrW4lyIdyw",
        "outputId": "25a21c1b-d3ae-4ec0-92c5-30df1b59b4fb"
      },
      "outputs": [
        {
          "output_type": "stream",
          "name": "stdout",
          "text": [
            "outer x: nonlocal\n",
            "Global X: global\n"
          ]
        }
      ],
      "source": [
        "x = \"global\"\n",
        "def outer():\n",
        "  x = 'nonlocal'\n",
        "  #def inner():\n",
        "    #nonlocal x\n",
        "    #x='Local to outer'\n",
        "  #inner()\n",
        "  print(\"outer x:\",x)\n",
        "outer()\n",
        "print(\"Global X:\",x)"
      ]
    },
    {
      "cell_type": "markdown",
      "source": [
        "Global Variables\n",
        "\n",
        "Local Variables"
      ],
      "metadata": {
        "id": "t3MBiaaDItR-"
      }
    }
  ]
}