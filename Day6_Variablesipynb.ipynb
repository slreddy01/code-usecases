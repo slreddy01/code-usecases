{
  "nbformat": 4,
  "nbformat_minor": 0,
  "metadata": {
    "colab": {
      "provenance": [],
      "authorship_tag": "ABX9TyPBH09tNfoblJt7gl3wJS5Z",
      "include_colab_link": true
    },
    "kernelspec": {
      "name": "python3",
      "display_name": "Python 3"
    },
    "language_info": {
      "name": "python"
    }
  },
  "cells": [
    {
      "cell_type": "markdown",
      "metadata": {
        "id": "view-in-github",
        "colab_type": "text"
      },
      "source": [
        "<a href=\"https://colab.research.google.com/github/slreddy01/code-usecases/blob/main/Day6_Variablesipynb.ipynb\" target=\"_parent\"><img src=\"https://colab.research.google.com/assets/colab-badge.svg\" alt=\"Open In Colab\"/></a>"
      ]
    },
    {
      "cell_type": "code",
      "execution_count": null,
      "metadata": {
        "colab": {
          "base_uri": "https://localhost:8080/"
        },
        "id": "74DrW4lyIdyw",
        "outputId": "25a21c1b-d3ae-4ec0-92c5-30df1b59b4fb"
      },
      "outputs": [
        {
          "output_type": "stream",
          "name": "stdout",
          "text": [
            "outer x: nonlocal\n",
            "Global X: global\n"
          ]
        }
      ],
      "source": [
        "x = \"global\"\n",
        "def outer():\n",
        "  x = 'nonlocal'\n",
        "  #def inner():\n",
        "    #nonlocal x\n",
        "    #x='Local to outer'\n",
        "  #inner()\n",
        "  print(\"outer x:\",x)\n",
        "outer()\n",
        "print(\"Global X:\",x)"
      ]
    },
    {
      "cell_type": "markdown",
      "source": [
        "Global Variables\n",
        "\n",
        "Local Variables"
      ],
      "metadata": {
        "id": "t3MBiaaDItR-"
      }
    },
    {
      "cell_type": "markdown",
      "source": [
        "Lambda Functions\n",
        "\n",
        "These are anonymus function.we use keyword Lambda.\n",
        "\n",
        " Lambda functions are frequently used as arguments to higher-order functions like map(), filter(), sorted(), and reduce(), which take other functions as input\n",
        "\n",
        " When to use lambda functions:\n",
        "\n",
        "For simple, one-time operations that don't warrant a full function definition.\n",
        "As arguments to higher-order functions where a concise function is needed inline.\n",
        "\n",
        "\n",
        "Limitations:\n",
        "\n",
        "Limited to a single expression, restricting their complexity.\n",
        "Lack of a name can sometimes make debugging more challenging.\n",
        "Not suitable for complex logic or functions requiring multiple statements."
      ],
      "metadata": {
        "id": "Nx1LRorbkq2a"
      }
    },
    {
      "cell_type": "code",
      "source": [
        "# A lambda function to double a number\n",
        "double = lambda x: x * 2\n",
        "print(double(5))\n",
        "\n",
        "# Using a lambda function with map()\n",
        "numbers = [1, 2, 3, 4, 5]\n",
        "squared_numbers = list(map(lambda x: x**2, numbers))\n",
        "print(squared_numbers)\n",
        "\n",
        "# Using a lambda function with filter()\n",
        "even_numbers = list(filter(lambda x: x % 2 == 0, numbers))\n",
        "print(even_numbers)"
      ],
      "metadata": {
        "id": "rliVEHwjlVE1"
      },
      "execution_count": null,
      "outputs": []
    },
    {
      "cell_type": "code",
      "source": [
        "sum = lambda var1,var2 : var1+var2\n",
        "var1=20\n",
        "var2=30\n",
        "print(sum(var1,var2))"
      ],
      "metadata": {
        "colab": {
          "base_uri": "https://localhost:8080/"
        },
        "id": "dDcTkfCMnWlS",
        "outputId": "dda01309-bc67-403b-a66c-9aa9a0ccd7e9"
      },
      "execution_count": null,
      "outputs": [
        {
          "output_type": "stream",
          "name": "stdout",
          "text": [
            "50\n"
          ]
        }
      ]
    },
    {
      "cell_type": "code",
      "source": [
        "# here lambda using as a condition in a single line with nested if else\n",
        "\n",
        "num = lambda x: \"positive\" if x>0 else \"negative\" if x<0 else \"zero\"\n",
        "print(num(0))\n",
        "print(num(-1))\n",
        "print(num(6))"
      ],
      "metadata": {
        "colab": {
          "base_uri": "https://localhost:8080/"
        },
        "id": "svGkiLpDoCdk",
        "outputId": "9d334513-9326-4828-e54f-1fb822584fef"
      },
      "execution_count": null,
      "outputs": [
        {
          "output_type": "stream",
          "name": "stdout",
          "text": [
            "zero\n",
            "neagtive\n",
            "positive\n"
          ]
        }
      ]
    },
    {
      "cell_type": "code",
      "source": [
        "check = lambda num : \"even\" if num%2 ==0 else \"odd\"\n",
        "\n",
        "print(check(20))\n",
        "print(check(34))"
      ],
      "metadata": {
        "colab": {
          "base_uri": "https://localhost:8080/"
        },
        "id": "31eXRi6notf2",
        "outputId": "54e9b728-43f4-43e6-d679-6d48480fc1b9"
      },
      "execution_count": null,
      "outputs": [
        {
          "output_type": "stream",
          "name": "stdout",
          "text": [
            "even\n",
            "even\n"
          ]
        }
      ]
    },
    {
      "cell_type": "markdown",
      "source": [
        "we can combine lambda with list comprehension\n",
        "\n",
        "below is the example"
      ],
      "metadata": {
        "id": "Wv7rhMocprIk"
      }
    },
    {
      "cell_type": "code",
      "source": [
        "li = [ lambda arg = x:arg*10 for x in range(1,5)]\n",
        "#  lambda arg = x, captures the current value of x as default\n",
        "for i in li:\n",
        "  print(i())"
      ],
      "metadata": {
        "colab": {
          "base_uri": "https://localhost:8080/"
        },
        "id": "v9-Z5hrkp9ow",
        "outputId": "71f416f4-1674-4dd3-e725-dca131ef855e"
      },
      "execution_count": null,
      "outputs": [
        {
          "output_type": "stream",
          "name": "stdout",
          "text": [
            "10\n",
            "20\n",
            "30\n",
            "40\n"
          ]
        }
      ]
    },
    {
      "cell_type": "code",
      "source": [
        "li = [lambda : x * 10 for x in range(1,5)]\n",
        "# when we have not used arg = x and directly multiplying with x*\n",
        "print([i() for i in li])"
      ],
      "metadata": {
        "colab": {
          "base_uri": "https://localhost:8080/"
        },
        "id": "oaPDPJKfq-k6",
        "outputId": "b6c49b9e-f039-4e77-f7c0-98a3efd750f3"
      },
      "execution_count": null,
      "outputs": [
        {
          "output_type": "stream",
          "name": "stdout",
          "text": [
            "[40, 40, 40, 40]\n"
          ]
        }
      ]
    },
    {
      "cell_type": "markdown",
      "source": [
        "Lambda function used for only single line, but we can create 2 lambda functions and can call one in each other with parameter inside another one."
      ],
      "metadata": {
        "id": "0CqUTpKtsJXf"
      }
    },
    {
      "cell_type": "code",
      "source": [
        "calc = lambda x,y:(x+y,x*y)\n",
        "res = calc(3,6)\n",
        "print(res)"
      ],
      "metadata": {
        "colab": {
          "base_uri": "https://localhost:8080/"
        },
        "id": "EkXA-hpsr7_n",
        "outputId": "391f7ec5-4e32-4ca4-9fb8-ec4836e4f7db"
      },
      "execution_count": null,
      "outputs": [
        {
          "output_type": "stream",
          "name": "stdout",
          "text": [
            "(9, 18)\n"
          ]
        }
      ]
    },
    {
      "cell_type": "markdown",
      "source": [
        "map() is a function which takes in a function and a list as an argument."
      ],
      "metadata": {
        "id": "eAPIv9I8z7Rg"
      }
    },
    {
      "cell_type": "code",
      "source": [
        "a= [1,2,3,4]\n",
        "b = map(lambda x : x*2,a)\n",
        "print(list(b))"
      ],
      "metadata": {
        "id": "W6nA2F5nz4iU"
      },
      "execution_count": null,
      "outputs": []
    },
    {
      "cell_type": "code",
      "source": [
        "a= [2,4,3,5,3,4]\n",
        "is_pal =a==a[::-1]\n",
        "print(is_pal)"
      ],
      "metadata": {
        "colab": {
          "base_uri": "https://localhost:8080/"
        },
        "id": "qz2j0laX6woZ",
        "outputId": "8745f0af-b580-4936-cfc1-cb5fe9e64cd5"
      },
      "execution_count": 5,
      "outputs": [
        {
          "output_type": "stream",
          "name": "stdout",
          "text": [
            "False\n"
          ]
        }
      ]
    },
    {
      "cell_type": "code",
      "source": [
        "#del list #\n",
        "a1=[5,6,7,8]\n",
        "check_pal = a1 == list(reversed(a1))\n",
        "print(check_pal)"
      ],
      "metadata": {
        "colab": {
          "base_uri": "https://localhost:8080/"
        },
        "id": "H0gPjxw88Ibn",
        "outputId": "64f2cd30-ab21-42e8-eae7-82e67b233852"
      },
      "execution_count": 14,
      "outputs": [
        {
          "output_type": "stream",
          "name": "stdout",
          "text": [
            "False\n"
          ]
        }
      ]
    },
    {
      "cell_type": "code",
      "source": [
        "a2=[3,7,8,7,3]\n",
        "\n",
        "check_pal1 = a2 == a2[::-1]\n",
        "print(check_pal1)"
      ],
      "metadata": {
        "id": "TCz6cKZM9lBX",
        "outputId": "a445b8cb-1764-4860-b3a2-8fe5de18a407",
        "colab": {
          "base_uri": "https://localhost:8080/"
        }
      },
      "execution_count": 17,
      "outputs": [
        {
          "output_type": "stream",
          "name": "stdout",
          "text": [
            "True\n"
          ]
        }
      ]
    }
  ]
}