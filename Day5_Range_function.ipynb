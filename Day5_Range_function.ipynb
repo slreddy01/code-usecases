{
  "nbformat": 4,
  "nbformat_minor": 0,
  "metadata": {
    "colab": {
      "provenance": [],
      "authorship_tag": "ABX9TyOMqBPKC6imNCrGpC/fD/zK",
      "include_colab_link": true
    },
    "kernelspec": {
      "name": "python3",
      "display_name": "Python 3"
    },
    "language_info": {
      "name": "python"
    }
  },
  "cells": [
    {
      "cell_type": "markdown",
      "metadata": {
        "id": "view-in-github",
        "colab_type": "text"
      },
      "source": [
        "<a href=\"https://colab.research.google.com/github/slreddy01/code-usecases/blob/main/Day5_Range_function.ipynb\" target=\"_parent\"><img src=\"https://colab.research.google.com/assets/colab-badge.svg\" alt=\"Open In Colab\"/></a>"
      ]
    },
    {
      "cell_type": "markdown",
      "source": [
        "range() is used to genearate sequence of numbers .\n",
        "range(start,stop):  means genearte values from start and doesnot include stop value.\n",
        "\n",
        "ex: range(2,5):  starts with 2 , 3,4\n",
        "we can use range() in loops to iterate over sequence of numbers\n",
        "Ex: range(2,5,1):  starts with 2 with step 1"
      ],
      "metadata": {
        "id": "XHlscJyYBwZD"
      }
    },
    {
      "cell_type": "code",
      "execution_count": 4,
      "metadata": {
        "colab": {
          "base_uri": "https://localhost:8080/"
        },
        "id": "On02oZzkBXVJ",
        "outputId": "b170522d-31a9-4627-919d-0a22a942f2db"
      },
      "outputs": [
        {
          "output_type": "stream",
          "name": "stdout",
          "text": [
            "1\n",
            "2\n",
            "3\n",
            "4\n",
            "5\n",
            "6\n",
            "7\n",
            "8\n",
            "9\n"
          ]
        }
      ],
      "source": [
        "for x in range(1,10):\n",
        "  print (x)"
      ]
    },
    {
      "cell_type": "markdown",
      "source": [
        "we can define the above one using list , but if we want to get result in sequenctial order we will go with range()"
      ],
      "metadata": {
        "id": "FoPWJjojC0zp"
      }
    },
    {
      "cell_type": "markdown",
      "source": [
        "**Funtions**"
      ],
      "metadata": {
        "id": "kDMuJwu3C9kC"
      }
    },
    {
      "cell_type": "markdown",
      "source": [
        "Functions hold the block of code which can be reused for specific tasks\n",
        "Use of Function:\n",
        "Due to Readability, Modularity, Code reusability, Maintanability\n",
        "\n",
        "def functionname(parameters):\n",
        "   Statement\n",
        "   return expression"
      ],
      "metadata": {
        "id": "lNuh4DO9C_5q"
      }
    },
    {
      "cell_type": "markdown",
      "source": [
        "Arguments in function\n",
        "\n",
        "These are the values passed inside the paranthesis of the function.\n"
      ],
      "metadata": {
        "id": "sfAO5a4bQUDf"
      }
    },
    {
      "cell_type": "code",
      "source": [
        "#to check whether number passed is even or odd\n",
        "def fun(x):\n",
        "  if x%2 ==0:\n",
        "   return \"even\"\n",
        "  else :\n",
        "    return \"odd\"\n",
        "print(fun(18))\n",
        "print(fun(1))\n"
      ],
      "metadata": {
        "colab": {
          "base_uri": "https://localhost:8080/"
        },
        "id": "Pcm0v0_cQReQ",
        "outputId": "957250f6-0173-440e-91eb-9e8dcfa3b5af"
      },
      "execution_count": 17,
      "outputs": [
        {
          "output_type": "stream",
          "name": "stdout",
          "text": [
            "even\n",
            "odd\n"
          ]
        }
      ]
    },
    {
      "cell_type": "code",
      "source": [],
      "metadata": {
        "id": "PGz1otc3C9S5"
      },
      "execution_count": null,
      "outputs": []
    },
    {
      "cell_type": "code",
      "source": [],
      "metadata": {
        "id": "b4tqFdUuCk2q"
      },
      "execution_count": null,
      "outputs": []
    }
  ]
}