{
  "nbformat": 4,
  "nbformat_minor": 0,
  "metadata": {
    "colab": {
      "provenance": [],
      "authorship_tag": "ABX9TyNfQxhwWSGU32I4YO2y9tFz",
      "include_colab_link": true
    },
    "kernelspec": {
      "name": "python3",
      "display_name": "Python 3"
    },
    "language_info": {
      "name": "python"
    }
  },
  "cells": [
    {
      "cell_type": "markdown",
      "metadata": {
        "id": "view-in-github",
        "colab_type": "text"
      },
      "source": [
        "<a href=\"https://colab.research.google.com/github/slreddy01/code-usecases/blob/main/Day5_Range_function.ipynb\" target=\"_parent\"><img src=\"https://colab.research.google.com/assets/colab-badge.svg\" alt=\"Open In Colab\"/></a>"
      ]
    },
    {
      "cell_type": "markdown",
      "source": [
        "range() is used to genearate sequence of numbers .\n",
        "range(start,stop):  means genearte values from start and doesnot include stop value.\n",
        "\n",
        "ex: range(2,5):  starts with 2 , 3,4\n",
        "we can use range() in loops to iterate over sequence of numbers\n",
        "Ex: range(2,5,1):  starts with 2 with step 1"
      ],
      "metadata": {
        "id": "XHlscJyYBwZD"
      }
    },
    {
      "cell_type": "code",
      "execution_count": 4,
      "metadata": {
        "colab": {
          "base_uri": "https://localhost:8080/"
        },
        "id": "On02oZzkBXVJ",
        "outputId": "b170522d-31a9-4627-919d-0a22a942f2db"
      },
      "outputs": [
        {
          "output_type": "stream",
          "name": "stdout",
          "text": [
            "1\n",
            "2\n",
            "3\n",
            "4\n",
            "5\n",
            "6\n",
            "7\n",
            "8\n",
            "9\n"
          ]
        }
      ],
      "source": [
        "for x in range(1,10):\n",
        "  print (x)"
      ]
    },
    {
      "cell_type": "markdown",
      "source": [
        "we can define the above one using list , but if we want to get result in sequenctial order we will go with range()"
      ],
      "metadata": {
        "id": "FoPWJjojC0zp"
      }
    },
    {
      "cell_type": "markdown",
      "source": [
        "**Funtions**"
      ],
      "metadata": {
        "id": "kDMuJwu3C9kC"
      }
    },
    {
      "cell_type": "markdown",
      "source": [],
      "metadata": {
        "id": "lNuh4DO9C_5q"
      }
    },
    {
      "cell_type": "code",
      "source": [],
      "metadata": {
        "id": "PGz1otc3C9S5"
      },
      "execution_count": null,
      "outputs": []
    },
    {
      "cell_type": "code",
      "source": [],
      "metadata": {
        "id": "b4tqFdUuCk2q"
      },
      "execution_count": null,
      "outputs": []
    }
  ]
}