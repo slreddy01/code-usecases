{
  "nbformat": 4,
  "nbformat_minor": 0,
  "metadata": {
    "colab": {
      "provenance": [],
      "authorship_tag": "ABX9TyODSFlEzO9lvjCJxoLHMPAm",
      "include_colab_link": true
    },
    "kernelspec": {
      "name": "python3",
      "display_name": "Python 3"
    },
    "language_info": {
      "name": "python"
    }
  },
  "cells": [
    {
      "cell_type": "markdown",
      "metadata": {
        "id": "view-in-github",
        "colab_type": "text"
      },
      "source": [
        "<a href=\"https://colab.research.google.com/github/slreddy01/code-usecases/blob/main/Day5_Range_function.ipynb\" target=\"_parent\"><img src=\"https://colab.research.google.com/assets/colab-badge.svg\" alt=\"Open In Colab\"/></a>"
      ]
    },
    {
      "cell_type": "markdown",
      "source": [
        "range() is used to genearate sequence of numbers .\n",
        "range(start,stop):  means genearte values from start and doesnot include stop value.\n",
        "\n",
        "ex: range(2,5):  starts with 2 , 3,4\n",
        "we can use range() in loops to iterate over sequence of numbers\n",
        "Ex: range(2,5,1):  starts with 2 with step 1"
      ],
      "metadata": {
        "id": "XHlscJyYBwZD"
      }
    },
    {
      "cell_type": "code",
      "execution_count": 4,
      "metadata": {
        "colab": {
          "base_uri": "https://localhost:8080/"
        },
        "id": "On02oZzkBXVJ",
        "outputId": "b170522d-31a9-4627-919d-0a22a942f2db"
      },
      "outputs": [
        {
          "output_type": "stream",
          "name": "stdout",
          "text": [
            "1\n",
            "2\n",
            "3\n",
            "4\n",
            "5\n",
            "6\n",
            "7\n",
            "8\n",
            "9\n"
          ]
        }
      ],
      "source": [
        "for x in range(1,10):\n",
        "  print (x)"
      ]
    },
    {
      "cell_type": "markdown",
      "source": [
        "we can define the above one using list , but if we want to get result in sequenctial order we will go with range()"
      ],
      "metadata": {
        "id": "FoPWJjojC0zp"
      }
    },
    {
      "cell_type": "markdown",
      "source": [
        "**Funtions**"
      ],
      "metadata": {
        "id": "kDMuJwu3C9kC"
      }
    },
    {
      "cell_type": "markdown",
      "source": [
        "Functions hold the block of code which can be reused for specific tasks\n",
        "Use of Function:\n",
        "Due to Readability, Modularity, Code reusability, Maintanability\n",
        "\n",
        "def functionname(parameters):\n",
        "   Statement\n",
        "   return expression"
      ],
      "metadata": {
        "id": "lNuh4DO9C_5q"
      }
    },
    {
      "cell_type": "markdown",
      "source": [
        "Arguments in function\n",
        "\n",
        "These are the values passed inside the paranthesis of the function.\n"
      ],
      "metadata": {
        "id": "sfAO5a4bQUDf"
      }
    },
    {
      "cell_type": "code",
      "source": [
        "#to check whether number passed is even or odd\n",
        "def fun(x):\n",
        "  if x%2 ==0:\n",
        "   return \"even\"\n",
        "  else :\n",
        "    return \"odd\"\n",
        "print(fun(18))\n",
        "print(fun(1))\n"
      ],
      "metadata": {
        "colab": {
          "base_uri": "https://localhost:8080/"
        },
        "id": "Pcm0v0_cQReQ",
        "outputId": "957250f6-0173-440e-91eb-9e8dcfa3b5af"
      },
      "execution_count": 17,
      "outputs": [
        {
          "output_type": "stream",
          "name": "stdout",
          "text": [
            "even\n",
            "odd\n"
          ]
        }
      ]
    },
    {
      "cell_type": "markdown",
      "source": [
        "Types of Arguments:\n",
        "1.Default Arguments\n",
        "2.Keyword Arguments\n",
        "3.Positional Arguments\n",
        "4.Arbitary Arguments\n"
      ],
      "metadata": {
        "id": "aIovo518TLyu"
      }
    },
    {
      "cell_type": "markdown",
      "source": [
        "1. Default Arguments\n",
        "\n",
        "if a value is not provided in a parameter , it assumes a default value"
      ],
      "metadata": {
        "id": "X-8C_8zEW97a"
      }
    },
    {
      "cell_type": "code",
      "source": [
        "def fun(x, y=20):\n",
        "    print(\"abc: \", x)\n",
        "    print(\"dfq: \", y)\n",
        "fun(10)"
      ],
      "metadata": {
        "colab": {
          "base_uri": "https://localhost:8080/"
        },
        "id": "PGz1otc3C9S5",
        "outputId": "68b95835-9497-46e9-e9c1-45f7adef8aab"
      },
      "execution_count": 20,
      "outputs": [
        {
          "output_type": "stream",
          "name": "stdout",
          "text": [
            "abc:  10\n",
            "dfq:  20\n"
          ]
        }
      ]
    },
    {
      "cell_type": "markdown",
      "source": [
        "2. Keyword Arguments                                                                       \n",
        "  In this arguments are  explicity specified by passing the parameters"
      ],
      "metadata": {
        "id": "HiJbREA1nDE9"
      }
    },
    {
      "cell_type": "code",
      "source": [
        "def fun(x,y):\n",
        "  print(\"new1: \",x)\n",
        "  print(\"new2: \",y)\n",
        "fun(x=40,y=10)"
      ],
      "metadata": {
        "colab": {
          "base_uri": "https://localhost:8080/"
        },
        "id": "b4tqFdUuCk2q",
        "outputId": "310e7613-e54a-449d-b0b1-5936617d575e"
      },
      "execution_count": 1,
      "outputs": [
        {
          "output_type": "stream",
          "name": "stdout",
          "text": [
            "new1:  40\n",
            "new2:  10\n"
          ]
        }
      ]
    },
    {
      "cell_type": "markdown",
      "source": [
        "3.Positional Arguments\n",
        "\n",
        " these are defined based on the order on position of the arguments in the function"
      ],
      "metadata": {
        "id": "2-uxnUMQGx4n"
      }
    },
    {
      "cell_type": "code",
      "source": [
        "def funname(name,age):\n",
        "  print(\"My name is\",name)\n",
        "  print(\"Age is\",age)\n",
        "funname(\"nisha\",20)\n",
        "funname( 30,\"abhi\")"
      ],
      "metadata": {
        "colab": {
          "base_uri": "https://localhost:8080/"
        },
        "id": "PGiq9LRCHCG_",
        "outputId": "1769c897-38e3-4074-aaae-0364e912aef8"
      },
      "execution_count": 5,
      "outputs": [
        {
          "output_type": "stream",
          "name": "stdout",
          "text": [
            "My name is nisha\n",
            "Age is 20\n",
            "My name is 30\n",
            "Age is abhi\n"
          ]
        }
      ]
    },
    {
      "cell_type": "markdown",
      "source": [
        "4. Arbitary Arguments\n",
        "\n",
        "These can pass a variable number of arguments to a function using special symbols. There are two special symbols:\n",
        "\n",
        "*args in Python (Non-Keyword Arguments)\n",
        "**kwargs in Python (Keyword Arguments)"
      ],
      "metadata": {
        "id": "PziVMsOnHzrF"
      }
    },
    {
      "cell_type": "code",
      "source": [],
      "metadata": {
        "id": "MEUOz8oMIQ9G"
      },
      "execution_count": null,
      "outputs": []
    }
  ]
}